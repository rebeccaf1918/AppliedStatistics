{
 "cells": [
  {
   "cell_type": "markdown",
   "metadata": {},
   "source": [
    "# Importing Required Modules\n",
    "_ _ _ _  \n",
    "\n",
    "### Mathematical functions from the standard library\n",
    "https://docs.python.org/3/library/math.html  \n",
    "import math\n",
    "\n",
    "\n",
    "### Numerical structures and operations\n",
    "https://numpy.org/doc/stable/reference/index.html#reference  \n",
    "import numpy as np\n",
    "\n",
    "### Plotting\n",
    "https://matplotlib.org/stable/contents.html  \n",
    "import matplotlib.pyplot as plt\n",
    "\n",
    "### Random selections\n",
    "https://docs.python.org/3/library/random.html  \n",
    "import random\n",
    "\n",
    "### Permutations and combinations\n",
    "https://docs.python.org/3/library/itertools.html  \n",
    "import itertools\n",
    "\n",
    "\n",
    "### Statistics\n",
    "import scipy.stats as stats  \n",
    "\n",
    "import seaborn as sns \n",
    "\n",
    "import statistics\n"
   ]
  },
  {
   "cell_type": "markdown",
   "metadata": {},
   "source": [
    "# Task 1\n",
    "\n",
    "Task 1 - Permutations and Combinations  \n",
    "Completed by: Rebecca Feeley  \n",
    "\n",
    "Suppose we alter the Lady Tasting Tea experiment to involve twelve cups of tea. Six have the milk in first and the other six having tea in first. A person claims they have the special power of being able to tell whether the tea or the milk went into a cup first upon tasting it. You agree to accept their claim if they can tell which of the six cups in your experiment had the milk in first.\n",
    "\n",
    "Calculate, using Python, the probability that they select the correct six cups. Here you should assume that they have no special powers in figuring it out, that they are just guessing. Remember to show and justify your workings in code and MarkDown cells.\n",
    "\n",
    "Suppose, now, you are willing to accept one error. Once they select the six cups they think had the milk in first, you will give them the benefit of the doubt should they have selected at least five of the correct cups. Calculate the probability, assuming they have no special powers, that the person makes at most one error.\n",
    "\n",
    "Would you accept two errors? Explain."
   ]
  },
  {
   "cell_type": "markdown",
   "metadata": {},
   "source": [
    "## Task 1  Explanation and Planned Solution\n",
    "This task is a proposed expansion of the famous Lady Tasting Tea test to involve 12 cups of tea, 6 of which have the milk added in first and 6 of which have the tea added in first.\n",
    "\n",
    "This experiment, conducted and published by Ronald Fisher in 1935, set out to determine how the cups of tea should be prepared (i.e should they be randomised) in order to establish that the lady had a genuine ability to tell how the cups of tea were prepared rather than lucky guesses on the part of the lady.   \n",
    "A key aspect of this experiment is the idea of the null hypothesis - that is an initial statement, as close to the real world application as possible, which is treated as true until it is proven otherwise. Fisher's null hypothesis was that the lady testing the tea did not have any unique ability to determine how the tea was prepared and that her claim to be able to do so was based on chance (i.e 'lucky guesses').    \n",
    "Fisher firstly set out to determine the probability of idenifying the correct preparation of each cup based on chance alone. He determined this to be approximately 1 in 70. As the chance of the lady correctly idenitifying each cup was so low, when the lady correctly determined the preparation process of each cup, Fisher was then able to reject the null hypothesis and concluded that \"her ability to discern the tea preparation was statistically significant.\"\n",
    "However, as the lady was able to correctly determine the preparation process of each cup, Fisher rejected the null hypothesis.   \n",
    "\n",
    "\n",
    "The first part of this task invloves calculating the probability that the person guesses each of the cups by chance, as Fisher set out to determine. \n",
    "\n",
    "\n",
    "\n",
    "\n",
    "\n"
   ]
  },
  {
   "cell_type": "code",
   "execution_count": null,
   "metadata": {},
   "outputs": [],
   "source": []
  },
  {
   "cell_type": "markdown",
   "metadata": {},
   "source": [
    "## Task 1 References \n",
    "\n",
    "https://www.acsh.org/news/2017/11/08/how-statistics-came-be-woman-and-cup-tea-12080#:~:text=With%2070%20possible%20combinations%2C%20there%20is%20exactly%20one,high%20to%20distinguish%20lucky%20guessing%20from%20actually%20knowing. \n",
    "\n",
    "https://statisticseasily.com/lady-tasting-tea/"
   ]
  }
 ],
 "metadata": {
  "language_info": {
   "name": "python"
  }
 },
 "nbformat": 4,
 "nbformat_minor": 2
}
