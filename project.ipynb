{
 "cells": [
  {
   "cell_type": "markdown",
   "metadata": {},
   "source": [
    "In this project, you will analyze the PlantGrowth R dataset. You will find a short description of it on Vicent Arel-Bundock's Rdatasets page. The dataset contains two main variables, a treatment group and the weight of plants within those groups.\n",
    "\n",
    "Your task is to perform t-tests and ANOVA on this dataset while describing the dataset and explaining your work. In doing this you should:\n",
    "\n",
    "Download and save the dataset to your repository.\n",
    "\n",
    "Describe the data set in your notebook.\n",
    "\n",
    "Describe what a t-test is, how it works, and what the assumptions are.\n",
    "\n",
    "Perform a t-test to determine whether there is a significant difference between the two treatment groups trt1 and trt2.\n",
    "\n",
    "Perform ANOVA to determine whether there is a significant difference between the three treatment groups ctrl, trt1, and trt2.\n",
    "\n",
    "Explain why it is more appropriate to apply ANOVA rather than several t-tests when analyzing more than two groups."
   ]
  },
  {
   "cell_type": "markdown",
   "metadata": {},
   "source": [
    "#### Importing Required Libraries"
   ]
  },
  {
   "cell_type": "code",
   "execution_count": null,
   "metadata": {},
   "outputs": [],
   "source": [
    "## Mathematical functions from the standard library\n",
    "# https://docs.python.org/3/library/math.html  \n",
    "import math \n",
    "\n",
    "## Numerical structures and operations\n",
    "# https://numpy.org/doc/stable/reference/index.html  \n",
    "import numpy as np \n",
    "\n",
    "## Plotting\n",
    "# https://matplotlib.org/stable/contents.html  \n",
    "import matplotlib.pyplot as plt\n",
    "\n",
    "## Random selections\n",
    "# https://docs.python.org/3/library/random.html  \n",
    "import random\n",
    "\n",
    "## Permutations and combinations\n",
    "# https://docs.python.org/3/library/itertools.html  \n",
    "import itertools\n",
    "\n",
    "import pandas as pd\n",
    "\n",
    "### Statistics\n",
    "import scipy.stats as stats  \n",
    "import seaborn as sns \n",
    "import statistics"
   ]
  },
  {
   "cell_type": "markdown",
   "metadata": {},
   "source": [
    "## 1 Downloading and saving the required dataset\n",
    "\n",
    "The dataset used for this project is the [PlantGrowth R dataset](https://vincentarelbundock.github.io/Rdatasets/index.html). \n",
    "This PlantGrowth dataset contains the information recorded on plant growth under certain conditions. The dataset is comprised of two main variables, a treatment group (ctrl, trt1 and trt2) and the weight of plants within those groups.  \n",
    "The dataset was originally sourced in Dobson's An Introduction to Statistical Modelling (1983).  \n",
    "The dataset is contained in the PlantGrowth.csv file in the [AppliedStatistics repository](https://github.com/rebeccaf1918/AppliedStatistics/blob/main/PlantGrowth.csv) by Rebecca Feeley."
   ]
  },
  {
   "cell_type": "markdown",
   "metadata": {},
   "source": [
    "## 2 Description of the Dataset"
   ]
  },
  {
   "cell_type": "code",
   "execution_count": null,
   "metadata": {},
   "outputs": [],
   "source": [
    "# loading in dataset and printing out the first 5 rows\n",
    "data = pd.read_csv('PlantGrowth.csv')\n",
    "print(data.head())"
   ]
  },
  {
   "cell_type": "code",
   "execution_count": null,
   "metadata": {},
   "outputs": [],
   "source": [
    "# Now I will conduct basic summary analysis of the dataset\n",
    "print(data.shape)\n",
    "print(data['group'].value_counts()) # determining how many values are in each group\n",
    "\n",
    "# Inspecting the dataset for any missing values - if the output is false it means there are no missing values\n",
    "data.isnull().any()"
   ]
  },
  {
   "cell_type": "markdown",
   "metadata": {},
   "source": [
    "The PlantGrowth dataset, which I have loaded into a pandas dataframe, contains 30 instances of 2 columns (a column being the weight as dried weight of plant and a column showing the group used in the experiment). The group category contains 10 instanees per group (one control and two treatment groups).   \n",
    "The yields of plant growth for the two treatment conditions were compared against a control in the experiment conducted. There is a numerical vairable i,e the weight (float64) and a categorical variable i.e the group (object).   \n",
    "For clarity sake, I have chosen to remove the rownames column as there is an index included in the data and this column holds no additional data beyond the index.\n"
   ]
  },
  {
   "cell_type": "code",
   "execution_count": null,
   "metadata": {},
   "outputs": [],
   "source": [
    "data.drop('rownames',\n",
    "  axis='columns', inplace=True)\n",
    "\n",
    "\n",
    "# checking that the deletion operation was done correctly\n",
    "data.head()\n"
   ]
  },
  {
   "cell_type": "markdown",
   "metadata": {},
   "source": [
    "Now, I am using the head() and tail() functions to display the first 5 lines of the  data set and the last 5 lines of the  data set. This allows us to see the column names of the data, how many columns are in the data, and a general overview of the top and bottom of the dataset."
   ]
  },
  {
   "cell_type": "code",
   "execution_count": null,
   "metadata": {},
   "outputs": [],
   "source": [
    "data.head()"
   ]
  },
  {
   "cell_type": "code",
   "execution_count": null,
   "metadata": {},
   "outputs": [],
   "source": [
    "data.tail()"
   ]
  },
  {
   "cell_type": "code",
   "execution_count": null,
   "metadata": {},
   "outputs": [],
   "source": [
    "data.info() # this is a useful function in pandas which summarises the above info in one function output"
   ]
  },
  {
   "cell_type": "code",
   "execution_count": null,
   "metadata": {},
   "outputs": [],
   "source": [
    "\n",
    "data.describe() # using the describe function to determine various characteristics incl the mean, std deviation and more\n",
    "\n"
   ]
  },
  {
   "cell_type": "code",
   "execution_count": null,
   "metadata": {},
   "outputs": [],
   "source": [
    "data.groupby('group').describe()  #generating the summary statistics by group to see if any trends occur due to group type"
   ]
  },
  {
   "cell_type": "markdown",
   "metadata": {},
   "source": [
    "### Visual Analysis\n",
    "\n",
    "In order to better understand the dataset, I will now conduct analysis of the data using visualisation methods to gain a better insight. I will create a boxplot, scatter plot and histogram to visual and better understand the dataset.  \n",
    "\n",
    "I will firstly create a histogram which is categorised by group and allows me to visualise the distribution of the data and then I will create a boxplot and violin plot of the groups which allows me to more easily compare the results based on the group the plant is categorised within.\n"
   ]
  },
  {
   "cell_type": "markdown",
   "metadata": {},
   "source": [
    "### Histogram\n",
    "Histograms are useful for visualising the distribution of a single variable - in this case we can easily see the distribution of the weight of each plant of the different groups (control, treatment1 and treament 2)"
   ]
  },
  {
   "cell_type": "code",
   "execution_count": null,
   "metadata": {},
   "outputs": [],
   "source": [
    "data.hist(column='weight', by='group', bins=10, color= 'green', edgecolor='black', figsize=(10, 8))\n",
    "plt.suptitle('Histograms of Plant Weights by Group')\n",
    "plt.subplots_adjust(top=0.9, hspace=0.4)\n",
    "plt.show()"
   ]
  },
  {
   "cell_type": "markdown",
   "metadata": {},
   "source": [
    "### Boxplot\n",
    "Next, I will create a boxplot based on the dataset. Boxplots have many useful functions, in particular it allows us to visualise the different in the plant weights across each of the groups and it makes the central tendency of the plant growth more distinguishable."
   ]
  },
  {
   "cell_type": "code",
   "execution_count": null,
   "metadata": {},
   "outputs": [],
   "source": [
    "sns.boxplot(x='group', y='weight', data=data)\n",
    "plt.title('Box Plot of Plant Weights by Group')\n",
    "plt.show()"
   ]
  },
  {
   "cell_type": "code",
   "execution_count": null,
   "metadata": {},
   "outputs": [],
   "source": [
    "sns.violinplot(x='group', y='weight', data=data)\n",
    "plt.title('Violin Plot of Plant Weights by Group')\n",
    "plt.show()\n"
   ]
  },
  {
   "cell_type": "markdown",
   "metadata": {},
   "source": [
    "## Describe what a t-test is, how it works, and what the assumptions are."
   ]
  },
  {
   "cell_type": "markdown",
   "metadata": {},
   "source": [
    "A t test is a statistical test which is used to determine whether or not there is a significant diferrence between two samples. It does this by comparing the means of two groups and determining if the means are significantly different. It is particularly useful for determining if the differences in the means are due to chance or whetehr they are statistically significant.\n",
    "The t test was originally developed by [William Seely Gosset](https://www.scientificamerican.com/article/how-the-guinness-brewery-invented-the-most-important-statistical-method-in/) who worked for the Guinness Brewing Company and developed the t test as part of his goal of measuring the quality of stout produced. He published his t test in 1908 under the psudynom 'Student' so as not to tip of competitors of his findings.\n",
    "The t test has since become one of the cornerstones of modern statistical analysis and is often used in hypothesis testing to determine whether a particular treatment or process has any actual effect on a group, e.g a control vs a treatment group. It is also often used to determine whether two groups are different from one another.  \n",
    "The t test is most commonly used when the data is normally distributed but the population variance is unknown.\n",
    "The t test looks at the means of two groups, and then calculates a t-statistic. This t statistic is used to determine if the null hypothesis is true or false. (The null hypothesis is that there is no significant differnce between the means of the two groups.)\n",
    "It then uses the resulting p-value to decide if the difference is statistically significant based on a chosen threshold (this threshold is often 0.05)\n",
    "\n",
    "There are 3 main types of t test:  \n",
    "One-sample t-test: Tests the mean of a single group to a known value or population mean.\n",
    "Two-sample t-test (Independent t-test): Tests the means of two independent, separate groups.\n",
    "Paired Sample t-test: Tests means from the same group at differing times (e.g., before and after a treatment).\n",
    "\n",
    "For the purposes of analysis of the PlantGrowth dataset, I will be conducting a Two-sample T-test (Independent t-test) as the there are two independent groups (i.e different plant groups) and the treatment provided has not used just one plant sample (i.e two separate treament groups/plant groups)"
   ]
  },
  {
   "cell_type": "markdown",
   "metadata": {},
   "source": [
    "### Assumptions required to carry out a t test\n",
    "In order for a t test to be carried out correctly, and to ensure that the results of any t test are valid, several assumptions must be met.  \n",
    "These assumptions can differ based on the particular type of t test used. As I will be utilising a Two-sample t test (Independent t test), I will focus on the assumptions required for this t test.\n",
    "The two samples must be indpendent of each other. \n",
    "The dependent variable should be continuous in nature\n",
    "The independent variables should be categorical in nature and independent of each other\n",
    "The data in each group should be normally distributed\n",
    "Each sample must be randomly sampled from the respective populations.\n",
    "The variences of the two groups should be equal (homogeneity of variances)\n",
    "\n",
    "If these assumptions are not accurate for the data used in a t test, then other methods of analysis must be used as the t test result will not prove to be reliable or accurate.\n"
   ]
  },
  {
   "cell_type": "markdown",
   "metadata": {},
   "source": [
    "## Performing a t test"
   ]
  }
 ],
 "metadata": {
  "kernelspec": {
   "display_name": "base",
   "language": "python",
   "name": "python3"
  },
  "language_info": {
   "codemirror_mode": {
    "name": "ipython",
    "version": 3
   },
   "file_extension": ".py",
   "mimetype": "text/x-python",
   "name": "python",
   "nbconvert_exporter": "python",
   "pygments_lexer": "ipython3",
   "version": "3.11.5"
  }
 },
 "nbformat": 4,
 "nbformat_minor": 2
}
